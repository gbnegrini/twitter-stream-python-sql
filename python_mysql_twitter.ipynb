{
 "cells": [
  {
   "cell_type": "code",
   "execution_count": 1,
   "metadata": {
    "ExecuteTime": {
     "end_time": "2019-01-17T18:06:41.084479Z",
     "start_time": "2019-01-17T18:06:39.835614Z"
    },
    "collapsed": true
   },
   "outputs": [],
   "source": [
    "import json\n",
    "import mysql.connector\n",
    "from mysql.connector import errorcode"
   ]
  },
  {
   "cell_type": "code",
   "execution_count": 2,
   "metadata": {
    "ExecuteTime": {
     "end_time": "2019-01-17T18:14:44.126547Z",
     "start_time": "2019-01-17T18:14:44.110553Z"
    },
    "collapsed": true
   },
   "outputs": [],
   "source": [
    "# saves the API keys and the MySQL connection configurations as JSON files\n",
    "\n",
    "api_keys = {'consumer_key' : 'API KEY', \n",
    "            'consumer_secret' : 'API SECRET KEY', \n",
    "            'access_token' : 'ACCESS TOKEN', \n",
    "            'access_token_secret' : 'ACCESS TOKEN SECRET'}\n",
    "\n",
    "my_sql_config = {'user': 'YOUR USER', \n",
    "                 'password': 'YOUR PASSWORD', \n",
    "                 'host': 'YOUR HOST', \n",
    "                 'database': 'YOUR DATABASE'}\n",
    " \n",
    "json_keys = json.dumps(api_keys)\n",
    "file = open(\"api_keys.json\",\"w\")\n",
    "file.write(json_keys)\n",
    "\n",
    "json_config = json.dumps(my_sql_config)\n",
    "file = open(\"mysql_config.json\",\"w\")\n",
    "file.write(json_config)\n",
    "\n",
    "file.close()"
   ]
  },
  {
   "cell_type": "code",
   "execution_count": null,
   "metadata": {
    "collapsed": true
   },
   "outputs": [],
   "source": []
  }
 ],
 "metadata": {
  "kernelspec": {
   "display_name": "Python 3",
   "language": "python",
   "name": "python3"
  },
  "language_info": {
   "codemirror_mode": {
    "name": "ipython",
    "version": 3
   },
   "file_extension": ".py",
   "mimetype": "text/x-python",
   "name": "python",
   "nbconvert_exporter": "python",
   "pygments_lexer": "ipython3",
   "version": "3.6.7"
  },
  "toc": {
   "base_numbering": 1,
   "nav_menu": {},
   "number_sections": false,
   "sideBar": true,
   "skip_h1_title": false,
   "title_cell": "Table of Contents",
   "title_sidebar": "Contents",
   "toc_cell": false,
   "toc_position": {},
   "toc_section_display": true,
   "toc_window_display": false
  },
  "varInspector": {
   "cols": {
    "lenName": 16,
    "lenType": 16,
    "lenVar": 40
   },
   "kernels_config": {
    "python": {
     "delete_cmd_postfix": "",
     "delete_cmd_prefix": "del ",
     "library": "var_list.py",
     "varRefreshCmd": "print(var_dic_list())"
    },
    "r": {
     "delete_cmd_postfix": ") ",
     "delete_cmd_prefix": "rm(",
     "library": "var_list.r",
     "varRefreshCmd": "cat(var_dic_list()) "
    }
   },
   "types_to_exclude": [
    "module",
    "function",
    "builtin_function_or_method",
    "instance",
    "_Feature"
   ],
   "window_display": false
  }
 },
 "nbformat": 4,
 "nbformat_minor": 2
}
